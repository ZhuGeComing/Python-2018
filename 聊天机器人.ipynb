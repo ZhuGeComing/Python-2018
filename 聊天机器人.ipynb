{
 "cells": [
  {
   "cell_type": "code",
   "execution_count": 1,
   "metadata": {},
   "outputs": [],
   "source": [
    "import time\n",
    "import requests\n",
    "import json"
   ]
  },
  {
   "cell_type": "code",
   "execution_count": 4,
   "metadata": {},
   "outputs": [
    {
     "name": "stdout",
     "output_type": "stream",
     "text": [
      "话题：我爱静静\n",
      "哥哥：静静爱我\n",
      "妹妹：静静是谁\n",
      "哥哥：静静不是你的吗\n",
      "妹妹：静静是谁\n",
      "哥哥：静静就是我们每天想的女孩呀。\n",
      "妹妹：这都知道？看来是很了解女孩了？\n",
      "哥哥：女孩是不是很可爱哟。\n",
      "妹妹：男孩子难道就不可爱了吗？\n",
      "哥哥：男孩子有高富帅的吗？\n",
      "妹妹：咦～，提到男孩就想关心帅不帅？\n",
      "哥哥：不要太意外噢。\n",
      "妹妹：真的只是意外而已？\n",
      "哥哥：真的只是意外而已？\n",
      "妹妹：真的只是意外而已？\n",
      "哥哥：真的只是意外而已？\n",
      "妹妹：真的只是意外而已？\n",
      "哥哥：真的只是意外而已？\n",
      "妹妹：真的只是意外而已？\n",
      "哥哥：可以换个别的问题么～\n",
      "妹妹：换个问题你还是不会啊。\n"
     ]
    }
   ],
   "source": [
    "url = 'http://openapi.tuling123.com/openapi/api/v2'\n",
    "s = input('话题：')\n",
    "for _ in range(10):\n",
    "    content =   {\n",
    "        \"reqType\":0,\n",
    "        \"perception\": {\n",
    "            \"inputText\": {\n",
    "                \"text\": s\n",
    "            },\n",
    "            \"selfInfo\": {\n",
    "                \"location\": {\n",
    "                    \"city\": \"西安\",\n",
    "                    \"province\": \"陕西\",\n",
    "                }\n",
    "            }\n",
    "        },\n",
    "        \"userInfo\": {\n",
    "            \"apiKey\": \"6261af9e867e478397e1d4ec42ff311a\",\n",
    "            \"userId\": \"1\"\n",
    "        }\n",
    "    }\n",
    "    req = json.dumps(content).encode('utf8')\n",
    "    # requests.post(url, data = {\"userInfo\": password, \"perception\": {\"inputText\": {\"text\": \"附近的酒店\"}}}).json()\n",
    "    resp = requests.post(url, data = req, headers={'content-type': 'application/json'}).json()\n",
    "    one = resp['results'][0]['values']['text']\n",
    "    print('哥哥：'+ one)\n",
    "    \n",
    "    \n",
    "    content =   {\n",
    "        \"reqType\":0,\n",
    "        \"perception\": {\n",
    "            \"inputText\": {\n",
    "                \"text\": one\n",
    "            },\n",
    "            \"selfInfo\": {\n",
    "                \"location\": {\n",
    "                    \"city\": \"西安\",\n",
    "                    \"province\": \"陕西\",\n",
    "                }\n",
    "            }\n",
    "        },\n",
    "        \"userInfo\": {\n",
    "            \"apiKey\": \"6261af9e867e478397e1d4ec42ff311a\",\n",
    "            \"userId\": \"2\"\n",
    "        }\n",
    "    }\n",
    "    req = json.dumps(content).encode('utf8')\n",
    "    # requests.post(url, data = {\"userInfo\": password, \"perception\": {\"inputText\": {\"text\": \"附近的酒店\"}}}).json()\n",
    "    resp = requests.post(url, data = req, headers={'content-type': 'application/json'}).json()\n",
    "    s = resp['results'][0]['values']['text']\n",
    "    print('妹妹：'+ s)\n"
   ]
  }
 ],
 "metadata": {
  "kernelspec": {
   "display_name": "Python 3",
   "language": "python",
   "name": "python3"
  },
  "language_info": {
   "codemirror_mode": {
    "name": "ipython",
    "version": 3
   },
   "file_extension": ".py",
   "mimetype": "text/x-python",
   "name": "python",
   "nbconvert_exporter": "python",
   "pygments_lexer": "ipython3",
   "version": "3.6.5"
  }
 },
 "nbformat": 4,
 "nbformat_minor": 2
}
