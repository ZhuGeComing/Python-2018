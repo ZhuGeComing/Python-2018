{
 "cells": [
  {
   "cell_type": "code",
   "execution_count": 2,
   "metadata": {},
   "outputs": [
    {
     "ename": "KeyboardInterrupt",
     "evalue": "",
     "traceback": [
      "\u001b[1;31m---------------------------------------------------------------------------\u001b[0m",
      "\u001b[1;31mKeyboardInterrupt\u001b[0m                         Traceback (most recent call last)",
      "\u001b[1;32m<ipython-input-2-29cff18df157>\u001b[0m in \u001b[0;36m<module>\u001b[1;34m()\u001b[0m\n\u001b[0;32m      5\u001b[0m \u001b[0mc\u001b[0m\u001b[1;33m=\u001b[0m\u001b[1;36m1\u001b[0m\u001b[1;33m\u001b[0m\u001b[0m\n\u001b[0;32m      6\u001b[0m \u001b[1;32mwhile\u001b[0m\u001b[1;33m(\u001b[0m\u001b[1;36m1\u001b[0m\u001b[1;33m)\u001b[0m\u001b[1;33m:\u001b[0m\u001b[1;33m\u001b[0m\u001b[0m\n\u001b[1;32m----> 7\u001b[1;33m     \u001b[0mret\u001b[0m\u001b[1;33m,\u001b[0m \u001b[0mframe\u001b[0m \u001b[1;33m=\u001b[0m \u001b[0mcap\u001b[0m\u001b[1;33m.\u001b[0m\u001b[0mread\u001b[0m\u001b[1;33m(\u001b[0m\u001b[1;33m)\u001b[0m\u001b[1;33m\u001b[0m\u001b[0m\n\u001b[0m\u001b[0;32m      8\u001b[0m     \u001b[0mcv\u001b[0m\u001b[1;33m.\u001b[0m\u001b[0mimshow\u001b[0m\u001b[1;33m(\u001b[0m\u001b[1;34m\"capture\"\u001b[0m\u001b[1;33m,\u001b[0m \u001b[0mframe\u001b[0m\u001b[1;33m)\u001b[0m\u001b[1;33m\u001b[0m\u001b[0m\n\u001b[0;32m      9\u001b[0m     \u001b[1;32mif\u001b[0m\u001b[1;33m(\u001b[0m\u001b[0mc\u001b[0m\u001b[1;33m%\u001b[0m\u001b[0mtimeF\u001b[0m \u001b[1;33m==\u001b[0m \u001b[1;36m0\u001b[0m\u001b[1;33m)\u001b[0m\u001b[1;33m:\u001b[0m \u001b[1;31m#每隔timeF帧进行存储操作\u001b[0m\u001b[1;33m\u001b[0m\u001b[0m\n",
      "\u001b[1;31mKeyboardInterrupt\u001b[0m: "
     ],
     "output_type": "error"
    }
   ],
   "source": [
    "import cv2 as cv\n",
    "import time\n",
    "cap = cv.VideoCapture(0)\n",
    "timeF = 100\n",
    "c=1\n",
    "while(1):\n",
    "    ret, frame = cap.read()\n",
    "    cv.imshow(\"capture\", frame)\n",
    "    if(c%timeF == 0): #每隔timeF帧进行存储操作  \n",
    "        cv.imwrite('test1.jpg',frame) #存储为图像  \n",
    "    c = c + 1 \n",
    "    if cv.waitKey(1) & 0xFF == ord('q'):\n",
    "        break\n",
    "        \n",
    "cv.imwrite('test1.jpg', frame)\n",
    "cap.release()\n",
    "cv.destroyAllWindows()\n"
   ]
  },
  {
   "cell_type": "code",
   "execution_count": 18,
   "metadata": {},
   "outputs": [
    {
     "name": "stdout",
     "output_type": "stream",
     "text": [
      "下午\n"
     ]
    }
   ],
   "source": [
    "import cv2  \n",
    "vc = cv2.VideoCapture('Test.avi') #读入视频文件  \n",
    "c=1  \n",
    "\n",
    "if vc.isOpened(): #判断是否正常打开  \n",
    "    rval , frame = vc.read()  \n",
    "else:  \n",
    "    rval = False  \n",
    "\n",
    "timeF = 1000  #视频帧计数间隔频率  \n",
    "\n",
    "while rval:   #循环读取视频帧  \n",
    "    rval, frame = vc.read()  \n",
    "    if(c%timeF == 0): #每隔timeF帧进行存储操作  \n",
    "        cv2.imwrite('image/'+str(c) + '.jpg',frame) #存储为图像  \n",
    "    c = c + 1  \n",
    "    cv2.waitKey(1)  \n",
    "vc.release()  "
   ]
  },
  {
   "cell_type": "code",
   "execution_count": 11,
   "metadata": {},
   "outputs": [
    {
     "data": {
      "text/plain": [
       "0.9593265653"
      ]
     },
     "execution_count": 11,
     "metadata": {},
     "output_type": "execute_result"
    }
   ],
   "source": [
    "from aip import AipFace\n",
    "from base64 import b64encode\n",
    "APP_ID = '11304911'\n",
    "API_KEY = 'pbW5Gp5iw2EFY6KVs9bOjmWe'\n",
    "SECRET_KEY = 'Z3oXfUVfwAMmb5NZhq94mWs16pUMnO4c'\n",
    "client = AipFace(APP_ID, API_KEY, SECRET_KEY)\n",
    "with open('test1.jpg', 'rb') as f:\n",
    "    pic1 = f.read()\n",
    "res = client.detect((b64encode(pic1)).decode(), 'BASE64')\n",
    "res['result']['face_list'][0]['face_probability']\n",
    "if "
   ]
  }
 ],
 "metadata": {
  "kernelspec": {
   "display_name": "Python 3",
   "language": "python",
   "name": "python3"
  },
  "language_info": {
   "codemirror_mode": {
    "name": "ipython",
    "version": 3
   },
   "file_extension": ".py",
   "mimetype": "text/x-python",
   "name": "python",
   "nbconvert_exporter": "python",
   "pygments_lexer": "ipython3",
   "version": "3.6.4"
  }
 },
 "nbformat": 4,
 "nbformat_minor": 2
}
